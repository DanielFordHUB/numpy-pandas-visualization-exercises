{
 "cells": [
  {
   "cell_type": "code",
   "execution_count": 3,
   "id": "2e62f312",
   "metadata": {},
   "outputs": [],
   "source": [
    "import matplotlib as plt\n",
    "import numpy as np\n",
    "import math"
   ]
  },
  {
   "cell_type": "code",
   "execution_count": null,
   "id": "98c15b3d",
   "metadata": {},
   "outputs": [],
   "source": [
    "#5\n",
    "\n",
    "# x axis = elements\n",
    "# y axis = operation\n",
    "# label or legend for curves\n",
    "# latex notation when possible\n",
    "\n",
    "y0=n"
   ]
  }
 ],
 "metadata": {
  "kernelspec": {
   "display_name": "Python 3 (ipykernel)",
   "language": "python",
   "name": "python3"
  },
  "language_info": {
   "codemirror_mode": {
    "name": "ipython",
    "version": 3
   },
   "file_extension": ".py",
   "mimetype": "text/x-python",
   "name": "python",
   "nbconvert_exporter": "python",
   "pygments_lexer": "ipython3",
   "version": "3.9.12"
  }
 },
 "nbformat": 4,
 "nbformat_minor": 5
}
