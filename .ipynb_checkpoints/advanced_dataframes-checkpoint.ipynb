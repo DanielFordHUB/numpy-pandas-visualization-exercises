{
 "cells": [
  {
   "cell_type": "code",
   "execution_count": null,
   "id": "a74c7605",
   "metadata": {},
   "outputs": [],
   "source": [
    "import pandas as pd\n",
    "import numpy as np\n",
    "import mysql.connector as con"
   ]
  },
  {
   "cell_type": "code",
   "execution_count": null,
   "id": "1c1cc084",
   "metadata": {},
   "outputs": [],
   "source": [
    "from env import host, username, password\n",
    "\n"
   ]
  },
  {
   "cell_type": "code",
   "execution_count": null,
   "id": "13214bdf",
   "metadata": {},
   "outputs": [],
   "source": [
    "def get_db_url(db):\n",
    "    return f'mysql+pymysql://{username}:{password}@{host}/{db}'"
   ]
  },
  {
   "cell_type": "code",
   "execution_count": null,
   "id": "9e309859",
   "metadata": {},
   "outputs": [],
   "source": [
    "query = '''SELECT * FROM employees limit 10'''"
   ]
  },
  {
   "cell_type": "code",
   "execution_count": null,
   "id": "64b67c2d",
   "metadata": {},
   "outputs": [],
   "source": [
    "pd.read_sql(query, get_db_url('employees'))\n"
   ]
  },
  {
   "cell_type": "code",
   "execution_count": null,
   "id": "9ae918c5",
   "metadata": {},
   "outputs": [],
   "source": [
    "pd.read_sql(query, get_db_url('employees'))url = get_db_url(\"employees\")\n",
    "sql = \"\"\"\n",
    "SELECT * FROM employees\n",
    "\"\"\"\n",
    "\n",
    "employees = pd.read_sql(sql, url)\n",
    "employees.shape"
   ]
  },
  {
   "cell_type": "code",
   "execution_count": null,
   "id": "97e7dbe6",
   "metadata": {},
   "outputs": [],
   "source": [
    "sql = \"\"\"\n",
    "SELECT * FROM titles\n",
    "\n",
    "\"\"\"\n",
    "\n",
    "titles = pd.read_sql(sql, url)\n",
    "titles.head()"
   ]
  },
  {
   "cell_type": "code",
   "execution_count": null,
   "id": "8fa33f7e",
   "metadata": {},
   "outputs": [],
   "source": [
    "titles.shape"
   ]
  },
  {
   "cell_type": "code",
   "execution_count": null,
   "id": "68626d4d",
   "metadata": {},
   "outputs": [],
   "source": [
    "employees.describe()"
   ]
  },
  {
   "cell_type": "code",
   "execution_count": null,
   "id": "7d4a38b3",
   "metadata": {},
   "outputs": [],
   "source": [
    "titles.describe(include=\"all\")"
   ]
  },
  {
   "cell_type": "code",
   "execution_count": null,
   "id": "9f7f7d28",
   "metadata": {},
   "outputs": [],
   "source": [
    "# How many unique titles are in the titles DataFrame?\n",
    "# Example of solving the problem only with SQL\n",
    "pd.read_sql(\"SELECT COUNT(DISTINCT title) AS unique_title_count from titles\", url)"
   ]
  },
  {
   "cell_type": "code",
   "execution_count": null,
   "id": "e40aa7e0",
   "metadata": {},
   "outputs": [],
   "source": [
    "# How many unique titles are in the titles DataFrame?\n",
    "# pandas approach\n",
    "len(titles.title.unique())\n"
   ]
  },
  {
   "cell_type": "code",
   "execution_count": null,
   "id": "06e56a45",
   "metadata": {},
   "outputs": [],
   "source": [
    "# What is the oldest date in the to_date column?\n",
    "pd.read_sql(\"SELECT MIN(to_date) FROM titles\", url)"
   ]
  },
  {
   "cell_type": "code",
   "execution_count": null,
   "id": "05cd8ab2",
   "metadata": {},
   "outputs": [],
   "source": [
    "# What is the most recent date in the to_date column?\n",
    "pd.read_sql(\"SELECT MAX(to_date) FROM titles\", url)"
   ]
  },
  {
   "cell_type": "code",
   "execution_count": null,
   "id": "3b96f167",
   "metadata": {},
   "outputs": [],
   "source": [
    "titles.to_date.max()"
   ]
  },
  {
   "cell_type": "code",
   "execution_count": null,
   "id": "31402fa4",
   "metadata": {},
   "outputs": [],
   "source": [
    "titles.to_date.min()"
   ]
  },
  {
   "cell_type": "markdown",
   "id": "9546368f",
   "metadata": {},
   "source": [
    "# PART 2"
   ]
  },
  {
   "cell_type": "code",
   "execution_count": null,
   "id": "7f5b02fe",
   "metadata": {},
   "outputs": [],
   "source": [
    "users = pd.DataFrame({\n",
    "    'id': [1, 2, 3, 4, 5, 6],\n",
    "    'name': ['bob', 'joe', 'sally', 'adam', 'jane', 'mike'],\n",
    "    'role_id': [1, 2, 3, 3, np.nan, np.nan]\n",
    "})\n",
    "users"
   ]
  },
  {
   "cell_type": "code",
   "execution_count": null,
   "id": "2b8fe057",
   "metadata": {},
   "outputs": [],
   "source": [
    "roles = pd.DataFrame({\n",
    "    'id': [1, 2, 3, 4],\n",
    "    'name': ['admin', 'author', 'reviewer', 'commenter']\n",
    "})\n",
    "roles"
   ]
  },
  {
   "cell_type": "code",
   "execution_count": null,
   "id": "f29e1b59",
   "metadata": {},
   "outputs": [],
   "source": [
    "#right join"
   ]
  },
  {
   "cell_type": "code",
   "execution_count": null,
   "id": "1f284069",
   "metadata": {},
   "outputs": [],
   "source": [
    "right_join = pd.merge(users, \n",
    "                      roles, \n",
    "                      left_on='role_id', \n",
    "                      right_on='id', \n",
    "                      how='right',\n",
    "                      indicator=True)\n",
    "right_join"
   ]
  },
  {
   "cell_type": "code",
   "execution_count": null,
   "id": "3aebdb12",
   "metadata": {},
   "outputs": [],
   "source": [
    "#METHOD CHAINING#\n",
    "clean_right = pd.merge(users, \n",
    "                    roles, \n",
    "                    left_on='role_id', \n",
    "                    right_on='id', \n",
    "                    how='right').drop(columns='role_id').rename(columns={'id_x': 'id', \n",
    "                                                                         'name_x': 'employee',\n",
    "                                                                         'id_y': 'role_id',\n",
    "                                                                         'name_y': 'role'}\n",
    "                                                                )\n",
    "clean_right"
   ]
  },
  {
   "cell_type": "code",
   "execution_count": null,
   "id": "5740b5ed",
   "metadata": {},
   "outputs": [],
   "source": [
    "#outer join"
   ]
  },
  {
   "cell_type": "code",
   "execution_count": null,
   "id": "aa179806",
   "metadata": {},
   "outputs": [],
   "source": [
    "pd.merge(users, \n",
    "         roles, \n",
    "         left_on='role_id', \n",
    "         right_on='id', \n",
    "         how='outer',\n",
    "        indicator=True)"
   ]
  },
  {
   "cell_type": "code",
   "execution_count": null,
   "id": "dde2ff28",
   "metadata": {},
   "outputs": [],
   "source": [
    "pd.merge(users, \n",
    "         roles, \n",
    "         left_on='role_id', \n",
    "         right_on='id', \n",
    "         how='outer').drop(columns='role_id').rename(columns={'id_x': 'id', \n",
    "                                                            'name_x': 'employee',\n",
    "                                                            'id_y': 'role_id',\n",
    "                                                            'name_y': 'role'}\n"
   ]
  },
  {
   "cell_type": "code",
   "execution_count": null,
   "id": "b05c543c",
   "metadata": {},
   "outputs": [],
   "source": [
    "#4 dropping foreign keya"
   ]
  },
  {
   "cell_type": "code",
   "execution_count": null,
   "id": "fbe13332",
   "metadata": {},
   "outputs": [],
   "source": [
    "pd.merge(users, \n",
    "         roles, \n",
    "         left_on='id', \n",
    "         right_on='id', \n",
    "         how='outer',\n",
    "        indicator=True)"
   ]
  },
  {
   "cell_type": "markdown",
   "id": "cc089d74",
   "metadata": {},
   "source": [
    "# 5"
   ]
  },
  {
   "cell_type": "code",
   "execution_count": null,
   "id": "9fcecf0b",
   "metadata": {},
   "outputs": [],
   "source": [
    "# Output and read the documentation for the mpg dataset.\n",
    "data('mpg', show_doc=True)"
   ]
  },
  {
   "cell_type": "code",
   "execution_count": null,
   "id": "ba2f92ed",
   "metadata": {},
   "outputs": [],
   "source": [
    "mpg = data('mpg')\n",
    "mpg.head()"
   ]
  },
  {
   "cell_type": "code",
   "execution_count": null,
   "id": "51f13d97",
   "metadata": {},
   "outputs": [],
   "source": [
    "# How many rows and columns are in the dataset?\n",
    "mpg.shape"
   ]
  },
  {
   "cell_type": "code",
   "execution_count": null,
   "id": "8b830581",
   "metadata": {},
   "outputs": [],
   "source": [
    "mpg.columns.tolist()mpg.columns = ['manufacturer', 'model', 'displacement', 'year', 'cylinders', 'transmission', 'drive', 'city','highway', 'fuel', 'class']"
   ]
  },
  {
   "cell_type": "markdown",
   "id": "6e9b8752",
   "metadata": {},
   "source": [
    "### 10 How many different manufacturers are there?"
   ]
  },
  {
   "cell_type": "code",
   "execution_count": null,
   "id": "f247fcb5",
   "metadata": {},
   "outputs": [],
   "source": [
    "mpg.manufacturer.nunique()\n",
    "#15"
   ]
  },
  {
   "cell_type": "code",
   "execution_count": null,
   "id": "f973f565",
   "metadata": {},
   "outputs": [],
   "source": [
    "### 11. Differrent models"
   ]
  },
  {
   "cell_type": "code",
   "execution_count": null,
   "id": "e1bb37fd",
   "metadata": {},
   "outputs": [],
   "source": [
    "mpg.model.nunique()\n",
    "#38"
   ]
  },
  {
   "cell_type": "markdown",
   "id": "617c6df3",
   "metadata": {},
   "source": [
    "### 12 & 13. Create a column named mileage_difference like you did in the DataFrames exercises; this column should contain the difference between highway and city mileage for each car. Also average_mileage"
   ]
  },
  {
   "cell_type": "code",
   "execution_count": null,
   "id": "2f2631c5",
   "metadata": {},
   "outputs": [],
   "source": [
    "# create new column called mileage difference\n",
    "mpg['mileage_difference'] = mpg.highway - mpg.city"
   ]
  },
  {
   "cell_type": "code",
   "execution_count": null,
   "id": "32dafca5",
   "metadata": {},
   "outputs": [],
   "source": [
    "#create new column called average mileage\n",
    "mpg['average_mileage'] = (mpg.city + mpg.highway)/2\n",
    "\n",
    "mpg.head()"
   ]
  },
  {
   "cell_type": "markdown",
   "id": "39aec760",
   "metadata": {},
   "source": [
    "### 14. Create a new column on the mpg dataset named is_automatic that holds boolean values denoting whether the car has an automatic transmission."
   ]
  },
  {
   "cell_type": "markdown",
   "id": "7ea36807",
   "metadata": {},
   "source": [
    "mpg.transmission.unique()"
   ]
  },
  {
   "cell_type": "code",
   "execution_count": null,
   "id": "b8145fc9",
   "metadata": {},
   "outputs": [],
   "source": [
    "mpg['is_automatic'] = mpg.transmission.str.contains('auto')\n",
    "\n",
    "mpg.head()"
   ]
  },
  {
   "cell_type": "code",
   "execution_count": null,
   "id": "a8157d84",
   "metadata": {},
   "outputs": [],
   "source": []
  },
  {
   "cell_type": "markdown",
   "id": "86f60c10",
   "metadata": {},
   "source": [
    "### 15. On average, which manufacturer has the best miles per gallon?"
   ]
  },
  {
   "cell_type": "code",
   "execution_count": null,
   "id": "b74ea595",
   "metadata": {},
   "outputs": [],
   "source": [
    "mpg.groupby('manufacturer').average_mileage.mean().sort_values(ascending = False)"
   ]
  },
  {
   "cell_type": "code",
   "execution_count": null,
   "id": "ac5bf798",
   "metadata": {},
   "outputs": [],
   "source": [
    "mpg.groupby('manufacturer').average_mileage.mean().nlargest(n = 1, keep = 'all')"
   ]
  },
  {
   "cell_type": "markdown",
   "id": "4c0b1e63",
   "metadata": {},
   "source": [
    "### 16. Do automatic or manual cars have better miles per gallon?"
   ]
  },
  {
   "cell_type": "code",
   "execution_count": null,
   "id": "e6a8eaa7",
   "metadata": {},
   "outputs": [],
   "source": [
    "mpg['transmission_category']= np.where(mpg.transmission.str.contains('auto'), 'automatic', 'manual')\n",
    "mpg.head()"
   ]
  },
  {
   "cell_type": "code",
   "execution_count": null,
   "id": "0bce8164",
   "metadata": {},
   "outputs": [],
   "source": [
    "mpg.groupby('transmission_category')[['average_mileage']].mean().round(1)"
   ]
  },
  {
   "cell_type": "markdown",
   "id": "61f877c0",
   "metadata": {},
   "source": [
    "### Use your get_db_url function to help you explore the data from the chipotle database. Use the data to answer the following questions:"
   ]
  },
  {
   "cell_type": "code",
   "execution_count": null,
   "id": "62004fe8",
   "metadata": {},
   "outputs": [],
   "source": [
    "query = '''\n",
    "                     SELECT *\n",
    "                     FROM orders;\n",
    "                     '''"
   ]
  },
  {
   "cell_type": "code",
   "execution_count": null,
   "id": "f21fa573",
   "metadata": {},
   "outputs": [],
   "source": [
    "orders = pd.read_sql(query, get_db_url('chipotle'))\n",
    "orders.head()"
   ]
  },
  {
   "cell_type": "code",
   "execution_count": null,
   "id": "9982c30a",
   "metadata": {},
   "outputs": [],
   "source": []
  },
  {
   "cell_type": "code",
   "execution_count": null,
   "id": "cd578dda",
   "metadata": {},
   "outputs": [],
   "source": []
  },
  {
   "cell_type": "code",
   "execution_count": null,
   "id": "88e3ccbb",
   "metadata": {},
   "outputs": [],
   "source": []
  },
  {
   "cell_type": "code",
   "execution_count": null,
   "id": "a5d985b3",
   "metadata": {},
   "outputs": [],
   "source": []
  },
  {
   "cell_type": "code",
   "execution_count": null,
   "id": "453be00f",
   "metadata": {},
   "outputs": [],
   "source": []
  },
  {
   "cell_type": "code",
   "execution_count": null,
   "id": "479a8904",
   "metadata": {},
   "outputs": [],
   "source": []
  },
  {
   "cell_type": "code",
   "execution_count": null,
   "id": "7b3399e2",
   "metadata": {},
   "outputs": [],
   "source": []
  }
 ],
 "metadata": {
  "kernelspec": {
   "display_name": "Python 3 (ipykernel)",
   "language": "python",
   "name": "python3"
  },
  "language_info": {
   "codemirror_mode": {
    "name": "ipython",
    "version": 3
   },
   "file_extension": ".py",
   "mimetype": "text/x-python",
   "name": "python",
   "nbconvert_exporter": "python",
   "pygments_lexer": "ipython3",
   "version": "3.9.12"
  }
 },
 "nbformat": 4,
 "nbformat_minor": 5
}
