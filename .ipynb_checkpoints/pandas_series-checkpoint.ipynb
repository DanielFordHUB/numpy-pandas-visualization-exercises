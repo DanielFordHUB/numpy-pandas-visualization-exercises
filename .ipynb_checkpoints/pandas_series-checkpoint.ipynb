{
 "cells": [
  {
   "cell_type": "code",
   "execution_count": 18,
   "id": "f12e5815",
   "metadata": {},
   "outputs": [],
   "source": [
    "import pandas as pd\n",
    "import numpy as np\n",
    "import matplotlib.pyplot as plt\n"
   ]
  },
  {
   "cell_type": "code",
   "execution_count": null,
   "id": "d51d88b5",
   "metadata": {},
   "outputs": [],
   "source": [
    "fruit = pd.Series([\"kiwi\", \"mango\", \"strawberry\", \"pineapple\", \"gala apple\", \"honeycrisp apple\", \"tomato\", \"watermelon\", \"honeydew\", \"kiwi\", \"kiwi\", \"kiwi\", \"mango\", \"blueberry\", \"blackberry\", \"gooseberry\", \"papaya\"])\n"
   ]
  },
  {
   "cell_type": "code",
   "execution_count": null,
   "id": "03e16f25",
   "metadata": {},
   "outputs": [],
   "source": [
    "#1 Determine the number of elements in fruits.\n",
    "fruit.size\n",
    "# 17\n",
    "\n",
    "\n",
    "#2 Output only the index from fruits.\n",
    "fruit.index\n",
    "# RangeIndex(start=0, stop=17, step=1)\n",
    "\n",
    "#3 Output only the values from fruits.\n",
    "fruit.values\n",
    "\n",
    "#4 Confirm the data type of the values in fruits.\n",
    "fruit.dtype\n",
    "\n",
    "#5 Output only the first five values from fruits. Output the last three values. Output two random values from fruits.\n",
    "fruit.head(5)\n",
    "'''\n",
    "0          kiwi\n",
    "1         mango\n",
    "2    strawberry\n",
    "3     pineapple\n",
    "4    gala apple\n",
    "dtype: object\n",
    "'''\n",
    "fruit.tail(3)\n",
    "'''\n",
    "14    blackberry\n",
    "15    gooseberry\n",
    "16        papaya\n",
    "dtype: object\n",
    "'''\n",
    "\n",
    "fruit.sample()\n",
    "\n",
    "'''\n",
    "4    gala apple\n",
    "dtype: object\n",
    "'''\n",
    "fruit.sample()\n",
    "'''\n",
    "7    watermelon\n",
    "dtype: object\n",
    "'''\n",
    "\n",
    "#6 Run the .describe() on fruits to see what information it returns when called on a Series with string values.\n",
    "fruit.describe()\n",
    "'''\n",
    "count       17\n",
    "unique      13\n",
    "top       kiwi\n",
    "freq         4\n",
    "dtype: object\n",
    "'''\n",
    "#7 Run the code necessary to produce only the unique string values from fruits.\n",
    "\n",
    "fruit.astype('str')\n",
    "'''\n",
    "'\\nkiwi                4\\nmango               2\\nstrawberry         \n",
    "'1\\npineapple           1\\ngala apple          1\\nhoneycrisp apple    \n",
    "'1\\ntomato              1\\nwatermelon          1\\nhoneydew            \n",
    "'1\\nblueberry           1\\nblackberry          1\\ngooseberry          \n",
    "'1\\npapaya              1\\ndtype: int64\\n'\n",
    "'''\n",
    "#8 Determine how many times each unique string value occurs in fruits.\n",
    "fruit.value_counts()\n",
    "\n",
    "'''\n",
    "kiwi                4\n",
    "mango               2\n",
    "strawberry          1\n",
    "pineapple           1\n",
    "gala apple          1\n",
    "honeycrisp apple    1\n",
    "tomato              1\n",
    "watermelon          1\n",
    "honeydew            1\n",
    "blueberry           1\n",
    "blackberry          1\n",
    "gooseberry          1\n",
    "papaya              1\n",
    "dtype: int64\n",
    "'''\n",
    "#9 Determine the string value that occurs most frequently in fruits.\n",
    "fruit.value_counts().nlargest(1)\n",
    "#10 Determine the string value that occurs least frequently in fruits.\n",
    "fruit.value_counts().nsmallest(n=1, keep = 'all')"
   ]
  },
  {
   "cell_type": "code",
   "execution_count": null,
   "id": "f14c201a",
   "metadata": {},
   "outputs": [],
   "source": [
    "#1 Capitalize all the string values in fruits.\n",
    "fruit.str.capitalize()"
   ]
  },
  {
   "cell_type": "code",
   "execution_count": null,
   "id": "04a9dedd",
   "metadata": {
    "scrolled": true
   },
   "outputs": [],
   "source": [
    "#2 Count the letter \"a\" in all the \n",
    "#  string values (use string vectorization).\n",
    "is_a = list('a')\n",
    "sum(fruit.str.count('a'))\n",
    "\n",
    "#14"
   ]
  },
  {
   "cell_type": "code",
   "execution_count": null,
   "id": "5da45e83",
   "metadata": {},
   "outputs": [],
   "source": [
    "#3\n",
    "#Output the number of vowels in each and every string value.\n",
    "\n",
    "#is_vowel = list('aeiou')\n",
    "#is_vowel\n",
    "#fruit.str.extract('aeiou')\n",
    "\n",
    "def vowel_count(string):\n",
    "    counter = 0\n",
    "    for char in string:\n",
    "        if char in 'aeiou':\n",
    "            counter = counter + 1\n",
    "    return\n",
    "\n",
    "fruit.apply(vowel_count)"
   ]
  },
  {
   "cell_type": "code",
   "execution_count": null,
   "id": "882501a3",
   "metadata": {},
   "outputs": [],
   "source": [
    "#4\n",
    "#Write the code to get the longest string value from fruits.\n",
    "\n",
    "length = fruit.str.len()\n",
    "length \n",
    "longest = np.where(length == length.max())[0]\n",
    "fruit[longest]"
   ]
  },
  {
   "cell_type": "code",
   "execution_count": null,
   "id": "e225957b",
   "metadata": {},
   "outputs": [],
   "source": [
    "fruit[fruit.str.len()>=5]"
   ]
  },
  {
   "cell_type": "code",
   "execution_count": null,
   "id": "62fec7da",
   "metadata": {},
   "outputs": [],
   "source": [
    "#5 Write the code to get the string values \n",
    "#  with 5 or more letters in the name.\n",
    "Greater_5 = length >= 5\n",
    "str.ravel.Greater_5\n",
    "#fruit[fruit(Greater_5)]any()"
   ]
  },
  {
   "cell_type": "code",
   "execution_count": null,
   "id": "d4470af6",
   "metadata": {},
   "outputs": [],
   "source": [
    "fruit[fruit.str.count('o') > 1]"
   ]
  },
  {
   "cell_type": "code",
   "execution_count": null,
   "id": "d4bcfa5b",
   "metadata": {},
   "outputs": [],
   "source": [
    "fruit[fruit.str.contains('berry')]"
   ]
  },
  {
   "cell_type": "code",
   "execution_count": null,
   "id": "b6413511",
   "metadata": {},
   "outputs": [],
   "source": [
    "fruit[vowel_count.idmax()]"
   ]
  },
  {
   "cell_type": "markdown",
   "id": "03c15cc3",
   "metadata": {},
   "source": [
    "# PT 3 exercises"
   ]
  },
  {
   "cell_type": "code",
   "execution_count": null,
   "id": "bc08e74f",
   "metadata": {},
   "outputs": [],
   "source": []
  },
  {
   "cell_type": "code",
   "execution_count": 33,
   "id": "aba66e06",
   "metadata": {},
   "outputs": [
    {
     "data": {
      "image/png": "[encoded data removed]",
      "text/plain": [
       "<Figure size 432x288 with 1 Axes>"
      ]
     },
     "metadata": {
      "needs_background": "light"
     },
     "output_type": "display_data"
    }
   ],
   "source": [
    "letters = pd.Series(list('hnvidduckkqxwymbimkccexbkmqygkxoyndmcxnwqarhyffsjpsrabtjzsypmzadfavyrnndndvswreauxovncxtwzpwejilzjrmmbbgbyxvjtewqthafnbkqplarokkyydtubbmnexoypulzwfhqvckdpqtpoppzqrmcvhhpwgjwupgzhiofohawytlsiyecuproguy'))\n",
    "                    \n",
    "letters\n",
    "                    \n",
    "# Which letter occurs the most frequently in the letters Series?  \n",
    "# Y\n",
    "# least frequently\n",
    "# I\n",
    "letters.value_counts(ascending=True).plot.bar()\n",
    "\n",
    "plt.show()"
   ]
  },
  {
   "cell_type": "code",
   "execution_count": 24,
   "id": "5e93b8b3",
   "metadata": {},
   "outputs": [
    {
     "data": {
      "text/plain": [
       "0    166\n",
       "1     34\n",
       "dtype: int64"
      ]
     },
     "execution_count": 24,
     "metadata": {},
     "output_type": "execute_result"
    }
   ],
   "source": [
    "vowels = letters.str.count(r'[aeiou]')\n",
    "\n",
    "vowels.value_counts()\n",
    "\n",
    "# 34 vowels total\n",
    "# 166 consonants"
   ]
  },
  {
   "cell_type": "code",
   "execution_count": 26,
   "id": "815785c8",
   "metadata": {},
   "outputs": [
    {
     "data": {
      "text/plain": [
       "0      H\n",
       "1      N\n",
       "2      V\n",
       "3      I\n",
       "4      D\n",
       "      ..\n",
       "195    R\n",
       "196    O\n",
       "197    G\n",
       "198    U\n",
       "199    Y\n",
       "Length: 200, dtype: object"
      ]
     },
     "execution_count": 26,
     "metadata": {},
     "output_type": "execute_result"
    }
   ],
   "source": [
    "# Create a Series that has all of the same letters but uppercased.\n",
    "letters.str.upper()"
   ]
  },
  {
   "cell_type": "code",
   "execution_count": 46,
   "id": "64aaf616",
   "metadata": {},
   "outputs": [
    {
     "ename": "SyntaxError",
     "evalue": "cannot assign to function call (2612142383.py, line 3)",
     "output_type": "error",
     "traceback": [
      "\u001b[0;36m  Input \u001b[0;32mIn [46]\u001b[0;36m\u001b[0m\n\u001b[0;31m    letters('unique key') = letters('unique key').astype(int)\u001b[0m\n\u001b[0m    ^\u001b[0m\n\u001b[0;31mSyntaxError\u001b[0m\u001b[0;31m:\u001b[0m cannot assign to function call\n"
     ]
    }
   ],
   "source": [
    "# Create a bar plot of the \n",
    "# frequencies of the 6 most commonly occuring letters.\n"
   ]
  },
  {
   "cell_type": "code",
   "execution_count": 74,
   "id": "eed826a6",
   "metadata": {},
   "outputs": [
    {
     "data": {
      "image/png": "[encoded data removed]",
      "text/plain": [
       "<Figure size 432x288 with 1 Axes>"
      ]
     },
     "metadata": {
      "needs_background": "light"
     },
     "output_type": "display_data"
    }
   ],
   "source": [
    "letters.value_counts().head(6).plot.bar(rot = 0)\n",
    "plt.show()"
   ]
  },
  {
   "cell_type": "markdown",
   "id": "456df182",
   "metadata": {},
   "source": [
    "dollars = pd.series    ['$796,459.41', '$278.60', '$482,571.67', '$4,503,915.98', '$2,121,418.3', '$1,260,813.3', '$87,231.01', '$1,509,175.45', '$4,138,548.00', '$2,848,913.80', '$594,715.39', '$4,789,988.17', '$4,513,644.5', '$3,191,059.97', '$1,758,712.24', '$4,338,283.54', '$4,738,303.38', '$2,791,759.67', '$769,681.94', '$452,650.23']\n"
   ]
  },
  {
   "cell_type": "code",
   "execution_count": 79,
   "id": "7a5d5f1b",
   "metadata": {},
   "outputs": [
    {
     "data": {
      "text/plain": [
       "0      796459.41\n",
       "1         278.60\n",
       "2      482571.67\n",
       "3     4503915.98\n",
       "4      2121418.3\n",
       "5      1260813.3\n",
       "6       87231.01\n",
       "7     1509175.45\n",
       "8     4138548.00\n",
       "9     2848913.80\n",
       "10     594715.39\n",
       "11    4789988.17\n",
       "12     4513644.5\n",
       "13    3191059.97\n",
       "14    1758712.24\n",
       "15    4338283.54\n",
       "16    4738303.38\n",
       "17    2791759.67\n",
       "18     769681.94\n",
       "19     452650.23\n",
       "dtype: object"
      ]
     },
     "execution_count": 79,
     "metadata": {},
     "output_type": "execute_result"
    }
   ],
   "source": [
    "import re\n",
    "dollars = pd.Series(['$796,459.41', '$278.60', '$482,571.67', '$4,503,915.98', '$2,121,418.3', '$1,260,813.3', '$87,231.01', '$1,509,175.45', '$4,138,548.00', '$2,848,913.80', '$594,715.39', '$4,789,988.17', '$4,513,644.5', '$3,191,059.97', '$1,758,712.24', '$4,338,283.54', '$4,738,303.38', '$2,791,759.67', '$769,681.94', '$452,650.23']\n",
    ")\n",
    "dollars\n",
    "\n",
    "# DATA TYPE IS OBJECT\n",
    "\n",
    "dollars.size\n",
    "# SIZE counts rows\n",
    "# 20\n",
    "\n",
    "# Perform the necessary manipulations by accessing \n",
    "# Series attributes and methods to \n",
    "# convert the numbers Series to a numeric data type.\n",
    "dollars = dollars.str.strip('$').str.replace(',', '')\n",
    "dollars"
   ]
  },
  {
   "cell_type": "code",
   "execution_count": null,
   "id": "22246b5e",
   "metadata": {},
   "outputs": [],
   "source": []
  },
  {
   "cell_type": "code",
   "execution_count": null,
   "id": "fb194288",
   "metadata": {},
   "outputs": [],
   "source": [
    "pd.cut(dollars, 4).value_counts()"
   ]
  },
  {
   "cell_type": "code",
   "execution_count": null,
   "id": "d74aa50a",
   "metadata": {},
   "outputs": [],
   "source": []
  },
  {
   "cell_type": "code",
   "execution_count": null,
   "id": "5cef3118",
   "metadata": {},
   "outputs": [],
   "source": []
  },
  {
   "cell_type": "code",
   "execution_count": 81,
   "id": "c7a879b2",
   "metadata": {},
   "outputs": [
    {
     "data": {
      "text/plain": [
       "0     60\n",
       "1     86\n",
       "2     75\n",
       "3     62\n",
       "4     93\n",
       "5     71\n",
       "6     60\n",
       "7     83\n",
       "8     95\n",
       "9     78\n",
       "10    65\n",
       "11    72\n",
       "12    69\n",
       "13    81\n",
       "14    96\n",
       "15    80\n",
       "16    85\n",
       "17    92\n",
       "18    82\n",
       "19    78\n",
       "dtype: int64"
      ]
     },
     "execution_count": 81,
     "metadata": {},
     "output_type": "execute_result"
    }
   ],
   "source": [
    "scores = pd.Series(    [60, 86, 75, 62, 93, 71, 60, 83, 95, 78, 65, 72, 69, 81, 96, 80, 85, 92, 82, 78]\n",
    ")\n",
    "scores"
   ]
  },
  {
   "cell_type": "code",
   "execution_count": 84,
   "id": "a1904367",
   "metadata": {},
   "outputs": [
    {
     "data": {
      "text/plain": [
       "c    6\n",
       "f    5\n",
       "b    5\n",
       "a    4\n",
       "dtype: int64"
      ]
     },
     "execution_count": 84,
     "metadata": {},
     "output_type": "execute_result"
    }
   ],
   "source": [
    "bin_scores = pd.cut(scores, bins = [0, 70, 80, 90, 100], labels = ['f', 'c', 'b', 'a'])\n",
    "bin_scores.value_counts()"
   ]
  },
  {
   "cell_type": "code",
   "execution_count": 87,
   "id": "2d64c0a2",
   "metadata": {},
   "outputs": [
    {
     "data": {
      "text/plain": [
       "0      64\n",
       "1      90\n",
       "2      79\n",
       "3      66\n",
       "4      97\n",
       "5      75\n",
       "6      64\n",
       "7      87\n",
       "8      99\n",
       "9      82\n",
       "10     69\n",
       "11     76\n",
       "12     73\n",
       "13     85\n",
       "14    100\n",
       "15     84\n",
       "16     89\n",
       "17     96\n",
       "18     86\n",
       "19     82\n",
       "dtype: int64"
      ]
     },
     "execution_count": 87,
     "metadata": {},
     "output_type": "execute_result"
    }
   ],
   "source": [
    "highest = scores.max()\n",
    "curve = 100 - highest\n",
    "\n",
    "curved_grades = scores + curve\n",
    "curved_grades"
   ]
  },
  {
   "cell_type": "code",
   "execution_count": 93,
   "id": "4a6f3b6e",
   "metadata": {},
   "outputs": [
    {
     "data": {
      "text/plain": [
       "<AxesSubplot:>"
      ]
     },
     "execution_count": 93,
     "metadata": {},
     "output_type": "execute_result"
    },
    {
     "data": {
      "image/png": "[encoded data removed]",
      "text/plain": [
       "<Figure size 432x288 with 1 Axes>"
      ]
     },
     "metadata": {
      "needs_background": "light"
     },
     "output_type": "display_data"
    }
   ],
   "source": [
    "letter_grades = pd.cut(curved_grades, bins = [0, 70, 80, 90, 100], labels = ['f', 'c', 'b', 'a'])\n",
    "\n",
    "curved_grades.plot.bar()\n"
   ]
  }
 ],
 "metadata": {
  "kernelspec": {
   "display_name": "Python 3 (ipykernel)",
   "language": "python",
   "name": "python3"
  },
  "language_info": {
   "codemirror_mode": {
    "name": "ipython",
    "version": 3
   },
   "file_extension": ".py",
   "mimetype": "text/x-python",
   "name": "python",
   "nbconvert_exporter": "python",
   "pygments_lexer": "ipython3",
   "version": "3.9.12"
  }
 },
 "nbformat": 4,
 "nbformat_minor": 5
}
