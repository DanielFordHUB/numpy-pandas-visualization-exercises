{
 "cells": [
  {
   "cell_type": "code",
   "execution_count": 3,
   "id": "a04fca98",
   "metadata": {},
   "outputs": [],
   "source": [
    "from pydataset import data"
   ]
  },
  {
   "cell_type": "code",
   "execution_count": 4,
   "id": "5d99963e",
   "metadata": {},
   "outputs": [
    {
     "data": {
      "text/html": [
       "<div>\n",
       "<style scoped>\n",
       "    .dataframe tbody tr th:only-of-type {\n",
       "        vertical-align: middle;\n",
       "    }\n",
       "\n",
       "    .dataframe tbody tr th {\n",
       "        vertical-align: top;\n",
       "    }\n",
       "\n",
       "    .dataframe thead th {\n",
       "        text-align: right;\n",
       "    }\n",
       "</style>\n",
       "<table border=\"1\" class=\"dataframe\">\n",
       "  <thead>\n",
       "    <tr style=\"text-align: right;\">\n",
       "      <th></th>\n",
       "      <th>displ</th>\n",
       "      <th>year</th>\n",
       "      <th>cyl</th>\n",
       "      <th>cty</th>\n",
       "      <th>hwy</th>\n",
       "    </tr>\n",
       "  </thead>\n",
       "  <tbody>\n",
       "    <tr>\n",
       "      <th>count</th>\n",
       "      <td>234.000000</td>\n",
       "      <td>234.000000</td>\n",
       "      <td>234.000000</td>\n",
       "      <td>234.000000</td>\n",
       "      <td>234.000000</td>\n",
       "    </tr>\n",
       "    <tr>\n",
       "      <th>mean</th>\n",
       "      <td>3.471795</td>\n",
       "      <td>2003.500000</td>\n",
       "      <td>5.888889</td>\n",
       "      <td>16.858974</td>\n",
       "      <td>23.440171</td>\n",
       "    </tr>\n",
       "    <tr>\n",
       "      <th>std</th>\n",
       "      <td>1.291959</td>\n",
       "      <td>4.509646</td>\n",
       "      <td>1.611534</td>\n",
       "      <td>4.255946</td>\n",
       "      <td>5.954643</td>\n",
       "    </tr>\n",
       "    <tr>\n",
       "      <th>min</th>\n",
       "      <td>1.600000</td>\n",
       "      <td>1999.000000</td>\n",
       "      <td>4.000000</td>\n",
       "      <td>9.000000</td>\n",
       "      <td>12.000000</td>\n",
       "    </tr>\n",
       "    <tr>\n",
       "      <th>25%</th>\n",
       "      <td>2.400000</td>\n",
       "      <td>1999.000000</td>\n",
       "      <td>4.000000</td>\n",
       "      <td>14.000000</td>\n",
       "      <td>18.000000</td>\n",
       "    </tr>\n",
       "    <tr>\n",
       "      <th>50%</th>\n",
       "      <td>3.300000</td>\n",
       "      <td>2003.500000</td>\n",
       "      <td>6.000000</td>\n",
       "      <td>17.000000</td>\n",
       "      <td>24.000000</td>\n",
       "    </tr>\n",
       "    <tr>\n",
       "      <th>75%</th>\n",
       "      <td>4.600000</td>\n",
       "      <td>2008.000000</td>\n",
       "      <td>8.000000</td>\n",
       "      <td>19.000000</td>\n",
       "      <td>27.000000</td>\n",
       "    </tr>\n",
       "    <tr>\n",
       "      <th>max</th>\n",
       "      <td>7.000000</td>\n",
       "      <td>2008.000000</td>\n",
       "      <td>8.000000</td>\n",
       "      <td>35.000000</td>\n",
       "      <td>44.000000</td>\n",
       "    </tr>\n",
       "  </tbody>\n",
       "</table>\n",
       "</div>"
      ],
      "text/plain": [
       "            displ         year         cyl         cty         hwy\n",
       "count  234.000000   234.000000  234.000000  234.000000  234.000000\n",
       "mean     3.471795  2003.500000    5.888889   16.858974   23.440171\n",
       "std      1.291959     4.509646    1.611534    4.255946    5.954643\n",
       "min      1.600000  1999.000000    4.000000    9.000000   12.000000\n",
       "25%      2.400000  1999.000000    4.000000   14.000000   18.000000\n",
       "50%      3.300000  2003.500000    6.000000   17.000000   24.000000\n",
       "75%      4.600000  2008.000000    8.000000   19.000000   27.000000\n",
       "max      7.000000  2008.000000    8.000000   35.000000   44.000000"
      ]
     },
     "execution_count": 4,
     "metadata": {},
     "output_type": "execute_result"
    }
   ],
   "source": [
    "mpg = data('mpg')\n",
    "mpg.describe()"
   ]
  },
  {
   "cell_type": "code",
   "execution_count": 6,
   "id": "ba402500",
   "metadata": {},
   "outputs": [
    {
     "data": {
      "text/plain": [
       "pandas.core.frame.DataFrame"
      ]
     },
     "execution_count": 6,
     "metadata": {},
     "output_type": "execute_result"
    }
   ],
   "source": [
    "import pandas as pd\n",
    "import numpy as np\n",
    "\n",
    "np.random.seed(123)\n",
    "\n",
    "students = ['Sally', 'Jane', 'Suzie', 'Billy', 'Ada', 'John', 'Thomas',\n",
    "            'Marie', 'Albert', 'Richard', 'Isaac', 'Alan']\n",
    "\n",
    "# randomly generate scores for each student for each subject\n",
    "# note that all the values need to have the same length here\n",
    "math_grades = np.random.randint(low=60, high=100, size=len(students))\n",
    "english_grades = np.random.randint(low=60, high=100, size=len(students))\n",
    "reading_grades = np.random.randint(low=60, high=100, size=len(students))\n",
    "\n",
    "df = pd.DataFrame({'name': students,\n",
    "                   'math': math_grades,\n",
    "                   'english': english_grades,\n",
    "                   'reading': reading_grades})\n",
    "\n",
    "type(df)"
   ]
  },
  {
   "cell_type": "code",
   "execution_count": null,
   "id": "f2803339",
   "metadata": {},
   "outputs": [],
   "source": [
    "df"
   ]
  },
  {
   "cell_type": "code",
   "execution_count": null,
   "id": "ac0ca66c",
   "metadata": {},
   "outputs": [],
   "source": [
    "df['passing_english'] = df.english >= 70\n",
    "\n",
    "df.sort_values(by = ['passing_english', 'name'], ascending = [True, True])"
   ]
  },
  {
   "cell_type": "code",
   "execution_count": null,
   "id": "43583f70",
   "metadata": {},
   "outputs": [],
   "source": [
    "df.sort_values(by = ['passing_english', 'english'], ascending = [True, True])"
   ]
  },
  {
   "cell_type": "code",
   "execution_count": null,
   "id": "2841e5dc",
   "metadata": {},
   "outputs": [],
   "source": [
    "df['grade_avg'] = (df.math + df.english + df.reading) / 3"
   ]
  },
  {
   "cell_type": "code",
   "execution_count": null,
   "id": "ea8a1634",
   "metadata": {},
   "outputs": [],
   "source": [
    "df"
   ]
  },
  {
   "cell_type": "code",
   "execution_count": null,
   "id": "dc2cdb2f",
   "metadata": {},
   "outputs": [],
   "source": [
    "valedictorian = df.sort_values(by = 'grade_avg', ascending=False).head(1)"
   ]
  },
  {
   "cell_type": "code",
   "execution_count": null,
   "id": "b6325795",
   "metadata": {},
   "outputs": [],
   "source": [
    "valedictorian"
   ]
  },
  {
   "cell_type": "code",
   "execution_count": null,
   "id": "6835ad2d",
   "metadata": {},
   "outputs": [],
   "source": [
    "mpg.shape\n",
    "#234 columns\n",
    "#11 rows"
   ]
  },
  {
   "cell_type": "code",
   "execution_count": null,
   "id": "3e242065",
   "metadata": {},
   "outputs": [],
   "source": [
    "mpg.info()\n",
    "\n",
    "'''\n",
    " 0   manufacturer  234 non-null    object \n",
    " 1   model         234 non-null    object \n",
    " 2   displ         234 non-null    float64\n",
    " 3   year          234 non-null    int64  \n",
    " 4   cyl           234 non-null    int64  \n",
    " 5   trans         234 non-null    object \n",
    " 6   drv           234 non-null    object \n",
    " 7   cty           234 non-null    int64  \n",
    " 8   hwy           234 non-null    int64  \n",
    " 9   fl            234 non-null    object \n",
    " 10  class         234 non-null    object \n",
    "\n",
    "'''"
   ]
  },
  {
   "cell_type": "code",
   "execution_count": null,
   "id": "d01dd292",
   "metadata": {},
   "outputs": [],
   "source": [
    "mpg.info().describe()"
   ]
  },
  {
   "cell_type": "code",
   "execution_count": null,
   "id": "de602602",
   "metadata": {},
   "outputs": [],
   "source": [
    "#rename CTY to CITY\n",
    "mpg = mpg.rename(columns = {'cty': 'city', 'hwy': 'highway'})"
   ]
  },
  {
   "cell_type": "code",
   "execution_count": null,
   "id": "5bdd743a",
   "metadata": {},
   "outputs": [],
   "source": [
    "mpg"
   ]
  },
  {
   "cell_type": "code",
   "execution_count": null,
   "id": "a5fe82ef",
   "metadata": {},
   "outputs": [],
   "source": [
    "mpg['mileage_difference'] = (mpg.city - mpg.highway)\n"
   ]
  },
  {
   "cell_type": "code",
   "execution_count": null,
   "id": "b68306ae",
   "metadata": {},
   "outputs": [],
   "source": [
    "mpg.sort_values(by = 'mileage_difference', ascending=False)\n",
    "\n",
    "# all cars have better highway mileage"
   ]
  },
  {
   "cell_type": "code",
   "execution_count": null,
   "id": "ccacbd5c",
   "metadata": {},
   "outputs": [],
   "source": [
    "largest_mileage_diff = mpg.sort_values(by = 'mileage_difference', ascending=True).head(3)\n",
    "\n",
    "largest_mileage_diff"
   ]
  },
  {
   "cell_type": "code",
   "execution_count": null,
   "id": "97926640",
   "metadata": {},
   "outputs": [],
   "source": [
    "mpg.sort_values(by = 'class', axis = 0)"
   ]
  },
  {
   "cell_type": "code",
   "execution_count": null,
   "id": "03399442",
   "metadata": {},
   "outputs": [],
   "source": [
    "mpg.loc[mpg['class'] == 'compact', 'is_compact'] = True\n",
    "mpg.loc[mpg['class'] != 'compact', 'is_compact'] = False\n",
    "\n",
    "mpg"
   ]
  },
  {
   "cell_type": "code",
   "execution_count": 7,
   "id": "38f152f7",
   "metadata": {},
   "outputs": [
    {
     "ename": "KeyError",
     "evalue": "'highway'",
     "output_type": "error",
     "traceback": [
      "\u001b[0;31m---------------------------------------------------------------------------\u001b[0m",
      "\u001b[0;31mKeyError\u001b[0m                                  Traceback (most recent call last)",
      "Input \u001b[0;32mIn [7]\u001b[0m, in \u001b[0;36m<cell line: 1>\u001b[0;34m()\u001b[0m\n\u001b[0;32m----> 1\u001b[0m \u001b[43mmpg\u001b[49m\u001b[43m[\u001b[49m\u001b[43mmpg\u001b[49m\u001b[43m[\u001b[49m\u001b[38;5;124;43m'\u001b[39;49m\u001b[38;5;124;43mclass\u001b[39;49m\u001b[38;5;124;43m'\u001b[39;49m\u001b[43m]\u001b[49m\u001b[38;5;241;43m==\u001b[39;49m\u001b[38;5;124;43m'\u001b[39;49m\u001b[38;5;124;43mcompact\u001b[39;49m\u001b[38;5;124;43m'\u001b[39;49m\u001b[43m]\u001b[49m\u001b[38;5;241;43m.\u001b[39;49m\u001b[43msort_values\u001b[49m\u001b[43m(\u001b[49m\u001b[43mby\u001b[49m\u001b[38;5;241;43m=\u001b[39;49m\u001b[38;5;124;43m'\u001b[39;49m\u001b[38;5;124;43mhighway\u001b[39;49m\u001b[38;5;124;43m'\u001b[39;49m\u001b[43m,\u001b[49m\u001b[43m \u001b[49m\u001b[43mascending\u001b[49m\u001b[38;5;241;43m=\u001b[39;49m\u001b[38;5;28;43;01mFalse\u001b[39;49;00m\u001b[43m)\u001b[49m\u001b[38;5;241m.\u001b[39mhead()\n",
      "File \u001b[0;32m/usr/local/anaconda3/lib/python3.9/site-packages/pandas/util/_decorators.py:311\u001b[0m, in \u001b[0;36mdeprecate_nonkeyword_arguments.<locals>.decorate.<locals>.wrapper\u001b[0;34m(*args, **kwargs)\u001b[0m\n\u001b[1;32m    305\u001b[0m \u001b[38;5;28;01mif\u001b[39;00m \u001b[38;5;28mlen\u001b[39m(args) \u001b[38;5;241m>\u001b[39m num_allow_args:\n\u001b[1;32m    306\u001b[0m     warnings\u001b[38;5;241m.\u001b[39mwarn(\n\u001b[1;32m    307\u001b[0m         msg\u001b[38;5;241m.\u001b[39mformat(arguments\u001b[38;5;241m=\u001b[39marguments),\n\u001b[1;32m    308\u001b[0m         \u001b[38;5;167;01mFutureWarning\u001b[39;00m,\n\u001b[1;32m    309\u001b[0m         stacklevel\u001b[38;5;241m=\u001b[39mstacklevel,\n\u001b[1;32m    310\u001b[0m     )\n\u001b[0;32m--> 311\u001b[0m \u001b[38;5;28;01mreturn\u001b[39;00m \u001b[43mfunc\u001b[49m\u001b[43m(\u001b[49m\u001b[38;5;241;43m*\u001b[39;49m\u001b[43margs\u001b[49m\u001b[43m,\u001b[49m\u001b[43m \u001b[49m\u001b[38;5;241;43m*\u001b[39;49m\u001b[38;5;241;43m*\u001b[39;49m\u001b[43mkwargs\u001b[49m\u001b[43m)\u001b[49m\n",
      "File \u001b[0;32m/usr/local/anaconda3/lib/python3.9/site-packages/pandas/core/frame.py:6313\u001b[0m, in \u001b[0;36mDataFrame.sort_values\u001b[0;34m(self, by, axis, ascending, inplace, kind, na_position, ignore_index, key)\u001b[0m\n\u001b[1;32m   6309\u001b[0m \u001b[38;5;28;01melif\u001b[39;00m \u001b[38;5;28mlen\u001b[39m(by):\n\u001b[1;32m   6310\u001b[0m     \u001b[38;5;66;03m# len(by) == 1\u001b[39;00m\n\u001b[1;32m   6312\u001b[0m     by \u001b[38;5;241m=\u001b[39m by[\u001b[38;5;241m0\u001b[39m]\n\u001b[0;32m-> 6313\u001b[0m     k \u001b[38;5;241m=\u001b[39m \u001b[38;5;28;43mself\u001b[39;49m\u001b[38;5;241;43m.\u001b[39;49m\u001b[43m_get_label_or_level_values\u001b[49m\u001b[43m(\u001b[49m\u001b[43mby\u001b[49m\u001b[43m,\u001b[49m\u001b[43m \u001b[49m\u001b[43maxis\u001b[49m\u001b[38;5;241;43m=\u001b[39;49m\u001b[43maxis\u001b[49m\u001b[43m)\u001b[49m\n\u001b[1;32m   6315\u001b[0m     \u001b[38;5;66;03m# need to rewrap column in Series to apply key function\u001b[39;00m\n\u001b[1;32m   6316\u001b[0m     \u001b[38;5;28;01mif\u001b[39;00m key \u001b[38;5;129;01mis\u001b[39;00m \u001b[38;5;129;01mnot\u001b[39;00m \u001b[38;5;28;01mNone\u001b[39;00m:\n\u001b[1;32m   6317\u001b[0m         \u001b[38;5;66;03m# error: Incompatible types in assignment (expression has type\u001b[39;00m\n\u001b[1;32m   6318\u001b[0m         \u001b[38;5;66;03m# \"Series\", variable has type \"ndarray\")\u001b[39;00m\n",
      "File \u001b[0;32m/usr/local/anaconda3/lib/python3.9/site-packages/pandas/core/generic.py:1840\u001b[0m, in \u001b[0;36mNDFrame._get_label_or_level_values\u001b[0;34m(self, key, axis)\u001b[0m\n\u001b[1;32m   1838\u001b[0m     values \u001b[38;5;241m=\u001b[39m \u001b[38;5;28mself\u001b[39m\u001b[38;5;241m.\u001b[39maxes[axis]\u001b[38;5;241m.\u001b[39mget_level_values(key)\u001b[38;5;241m.\u001b[39m_values\n\u001b[1;32m   1839\u001b[0m \u001b[38;5;28;01melse\u001b[39;00m:\n\u001b[0;32m-> 1840\u001b[0m     \u001b[38;5;28;01mraise\u001b[39;00m \u001b[38;5;167;01mKeyError\u001b[39;00m(key)\n\u001b[1;32m   1842\u001b[0m \u001b[38;5;66;03m# Check for duplicates\u001b[39;00m\n\u001b[1;32m   1843\u001b[0m \u001b[38;5;28;01mif\u001b[39;00m values\u001b[38;5;241m.\u001b[39mndim \u001b[38;5;241m>\u001b[39m \u001b[38;5;241m1\u001b[39m:\n",
      "\u001b[0;31mKeyError\u001b[0m: 'highway'"
     ]
    }
   ],
   "source": [
    "mpg[mpg['class']=='compact'].sort_values(by='highway', ascending=False).head()"
   ]
  },
  {
   "cell_type": "code",
   "execution_count": null,
   "id": "2d8c2631",
   "metadata": {},
   "outputs": [],
   "source": []
  },
  {
   "cell_type": "code",
   "execution_count": null,
   "id": "85d3095f",
   "metadata": {},
   "outputs": [],
   "source": [
    "best_hw_compact = mpg.sort_values(by = ['is_compact', 'highway'], ascending = [False, False]).head()\n",
    "worst_hw_compact = mpg.sort_values(by = ['is_compact', 'highway'], ascending = [False, True]).head()\n",
    "\n",
    "worst_hw_compact"
   ]
  },
  {
   "cell_type": "code",
   "execution_count": null,
   "id": "b2381738",
   "metadata": {
    "scrolled": true
   },
   "outputs": [],
   "source": [
    "best_hw_compact"
   ]
  },
  {
   "cell_type": "code",
   "execution_count": null,
   "id": "0463a526",
   "metadata": {},
   "outputs": [],
   "source": [
    "mpg['avg_mileage'] = (mpg.city + mpg.highway) / 2"
   ]
  },
  {
   "cell_type": "code",
   "execution_count": null,
   "id": "65a61ab2",
   "metadata": {},
   "outputs": [],
   "source": []
  },
  {
   "cell_type": "code",
   "execution_count": null,
   "id": "77b3adb3",
   "metadata": {},
   "outputs": [],
   "source": []
  },
  {
   "cell_type": "code",
   "execution_count": null,
   "id": "da3c5329",
   "metadata": {},
   "outputs": [],
   "source": [
    "best_avg_dodge = mpg.loc[mpg['manufacturer'] == 'dodge'].sort_values(by = 'avg_mileage', ascending = False).head(1)\n",
    "worst_avg_dodge = mpg.loc[mpg['manufacturer'] == 'dodge'].sort_values(by = 'avg_mileage', ascending = False).tail(1)\n",
    "\n",
    "#mpg.loc[mpg['class'] != 'compact', 'is_compact'] = False"
   ]
  },
  {
   "cell_type": "code",
   "execution_count": null,
   "id": "47101bdd",
   "metadata": {},
   "outputs": [],
   "source": [
    "best_avg_dodge"
   ]
  },
  {
   "cell_type": "code",
   "execution_count": null,
   "id": "73d7ee5e",
   "metadata": {},
   "outputs": [],
   "source": [
    "worst_avg_dodge"
   ]
  },
  {
   "cell_type": "markdown",
   "id": "d24306b0",
   "metadata": {},
   "source": [
    "# 3"
   ]
  },
  {
   "cell_type": "code",
   "execution_count": 4,
   "id": "ed801506",
   "metadata": {},
   "outputs": [
    {
     "data": {
      "text/html": [
       "<div>\n",
       "<style scoped>\n",
       "    .dataframe tbody tr th:only-of-type {\n",
       "        vertical-align: middle;\n",
       "    }\n",
       "\n",
       "    .dataframe tbody tr th {\n",
       "        vertical-align: top;\n",
       "    }\n",
       "\n",
       "    .dataframe thead th {\n",
       "        text-align: right;\n",
       "    }\n",
       "</style>\n",
       "<table border=\"1\" class=\"dataframe\">\n",
       "  <thead>\n",
       "    <tr style=\"text-align: right;\">\n",
       "      <th></th>\n",
       "      <th>body</th>\n",
       "      <th>brain</th>\n",
       "    </tr>\n",
       "  </thead>\n",
       "  <tbody>\n",
       "    <tr>\n",
       "      <th>Arctic fox</th>\n",
       "      <td>3.385</td>\n",
       "      <td>44.50</td>\n",
       "    </tr>\n",
       "    <tr>\n",
       "      <th>Owl monkey</th>\n",
       "      <td>0.480</td>\n",
       "      <td>15.50</td>\n",
       "    </tr>\n",
       "    <tr>\n",
       "      <th>Mountain beaver</th>\n",
       "      <td>1.350</td>\n",
       "      <td>8.10</td>\n",
       "    </tr>\n",
       "    <tr>\n",
       "      <th>Cow</th>\n",
       "      <td>465.000</td>\n",
       "      <td>423.00</td>\n",
       "    </tr>\n",
       "    <tr>\n",
       "      <th>Grey wolf</th>\n",
       "      <td>36.330</td>\n",
       "      <td>119.50</td>\n",
       "    </tr>\n",
       "    <tr>\n",
       "      <th>Goat</th>\n",
       "      <td>27.660</td>\n",
       "      <td>115.00</td>\n",
       "    </tr>\n",
       "    <tr>\n",
       "      <th>Roe deer</th>\n",
       "      <td>14.830</td>\n",
       "      <td>98.20</td>\n",
       "    </tr>\n",
       "    <tr>\n",
       "      <th>Guinea pig</th>\n",
       "      <td>1.040</td>\n",
       "      <td>5.50</td>\n",
       "    </tr>\n",
       "    <tr>\n",
       "      <th>Verbet</th>\n",
       "      <td>4.190</td>\n",
       "      <td>58.00</td>\n",
       "    </tr>\n",
       "    <tr>\n",
       "      <th>Chinchilla</th>\n",
       "      <td>0.425</td>\n",
       "      <td>6.40</td>\n",
       "    </tr>\n",
       "    <tr>\n",
       "      <th>Ground squirrel</th>\n",
       "      <td>0.101</td>\n",
       "      <td>4.00</td>\n",
       "    </tr>\n",
       "    <tr>\n",
       "      <th>Arctic ground squirrel</th>\n",
       "      <td>0.920</td>\n",
       "      <td>5.70</td>\n",
       "    </tr>\n",
       "    <tr>\n",
       "      <th>African giant pouched rat</th>\n",
       "      <td>1.000</td>\n",
       "      <td>6.60</td>\n",
       "    </tr>\n",
       "    <tr>\n",
       "      <th>Lesser short-tailed shrew</th>\n",
       "      <td>0.005</td>\n",
       "      <td>0.14</td>\n",
       "    </tr>\n",
       "    <tr>\n",
       "      <th>Star-nosed mole</th>\n",
       "      <td>0.060</td>\n",
       "      <td>1.00</td>\n",
       "    </tr>\n",
       "    <tr>\n",
       "      <th>Nine-banded armadillo</th>\n",
       "      <td>3.500</td>\n",
       "      <td>10.80</td>\n",
       "    </tr>\n",
       "    <tr>\n",
       "      <th>Tree hyrax</th>\n",
       "      <td>2.000</td>\n",
       "      <td>12.30</td>\n",
       "    </tr>\n",
       "    <tr>\n",
       "      <th>N.A. opossum</th>\n",
       "      <td>1.700</td>\n",
       "      <td>6.30</td>\n",
       "    </tr>\n",
       "    <tr>\n",
       "      <th>Asian elephant</th>\n",
       "      <td>2547.000</td>\n",
       "      <td>4603.00</td>\n",
       "    </tr>\n",
       "    <tr>\n",
       "      <th>Big brown bat</th>\n",
       "      <td>0.023</td>\n",
       "      <td>0.30</td>\n",
       "    </tr>\n",
       "    <tr>\n",
       "      <th>Donkey</th>\n",
       "      <td>187.100</td>\n",
       "      <td>419.00</td>\n",
       "    </tr>\n",
       "    <tr>\n",
       "      <th>Horse</th>\n",
       "      <td>521.000</td>\n",
       "      <td>655.00</td>\n",
       "    </tr>\n",
       "    <tr>\n",
       "      <th>European hedgehog</th>\n",
       "      <td>0.785</td>\n",
       "      <td>3.50</td>\n",
       "    </tr>\n",
       "    <tr>\n",
       "      <th>Patas monkey</th>\n",
       "      <td>10.000</td>\n",
       "      <td>115.00</td>\n",
       "    </tr>\n",
       "    <tr>\n",
       "      <th>Cat</th>\n",
       "      <td>3.300</td>\n",
       "      <td>25.60</td>\n",
       "    </tr>\n",
       "    <tr>\n",
       "      <th>Galago</th>\n",
       "      <td>0.200</td>\n",
       "      <td>5.00</td>\n",
       "    </tr>\n",
       "    <tr>\n",
       "      <th>Genet</th>\n",
       "      <td>1.410</td>\n",
       "      <td>17.50</td>\n",
       "    </tr>\n",
       "    <tr>\n",
       "      <th>Giraffe</th>\n",
       "      <td>529.000</td>\n",
       "      <td>680.00</td>\n",
       "    </tr>\n",
       "    <tr>\n",
       "      <th>Gorilla</th>\n",
       "      <td>207.000</td>\n",
       "      <td>406.00</td>\n",
       "    </tr>\n",
       "    <tr>\n",
       "      <th>Grey seal</th>\n",
       "      <td>85.000</td>\n",
       "      <td>325.00</td>\n",
       "    </tr>\n",
       "    <tr>\n",
       "      <th>Rock hyrax-a</th>\n",
       "      <td>0.750</td>\n",
       "      <td>12.30</td>\n",
       "    </tr>\n",
       "    <tr>\n",
       "      <th>Human</th>\n",
       "      <td>62.000</td>\n",
       "      <td>1320.00</td>\n",
       "    </tr>\n",
       "    <tr>\n",
       "      <th>African elephant</th>\n",
       "      <td>6654.000</td>\n",
       "      <td>5712.00</td>\n",
       "    </tr>\n",
       "    <tr>\n",
       "      <th>Water opossum</th>\n",
       "      <td>3.500</td>\n",
       "      <td>3.90</td>\n",
       "    </tr>\n",
       "    <tr>\n",
       "      <th>Rhesus monkey</th>\n",
       "      <td>6.800</td>\n",
       "      <td>179.00</td>\n",
       "    </tr>\n",
       "    <tr>\n",
       "      <th>Kangaroo</th>\n",
       "      <td>35.000</td>\n",
       "      <td>56.00</td>\n",
       "    </tr>\n",
       "    <tr>\n",
       "      <th>Yellow-bellied marmot</th>\n",
       "      <td>4.050</td>\n",
       "      <td>17.00</td>\n",
       "    </tr>\n",
       "    <tr>\n",
       "      <th>Golden hamster</th>\n",
       "      <td>0.120</td>\n",
       "      <td>1.00</td>\n",
       "    </tr>\n",
       "    <tr>\n",
       "      <th>Mouse</th>\n",
       "      <td>0.023</td>\n",
       "      <td>0.40</td>\n",
       "    </tr>\n",
       "    <tr>\n",
       "      <th>Little brown bat</th>\n",
       "      <td>0.010</td>\n",
       "      <td>0.25</td>\n",
       "    </tr>\n",
       "    <tr>\n",
       "      <th>Slow loris</th>\n",
       "      <td>1.400</td>\n",
       "      <td>12.50</td>\n",
       "    </tr>\n",
       "    <tr>\n",
       "      <th>Okapi</th>\n",
       "      <td>250.000</td>\n",
       "      <td>490.00</td>\n",
       "    </tr>\n",
       "    <tr>\n",
       "      <th>Rabbit</th>\n",
       "      <td>2.500</td>\n",
       "      <td>12.10</td>\n",
       "    </tr>\n",
       "    <tr>\n",
       "      <th>Sheep</th>\n",
       "      <td>55.500</td>\n",
       "      <td>175.00</td>\n",
       "    </tr>\n",
       "    <tr>\n",
       "      <th>Jaguar</th>\n",
       "      <td>100.000</td>\n",
       "      <td>157.00</td>\n",
       "    </tr>\n",
       "    <tr>\n",
       "      <th>Chimpanzee</th>\n",
       "      <td>52.160</td>\n",
       "      <td>440.00</td>\n",
       "    </tr>\n",
       "    <tr>\n",
       "      <th>Baboon</th>\n",
       "      <td>10.550</td>\n",
       "      <td>179.50</td>\n",
       "    </tr>\n",
       "    <tr>\n",
       "      <th>Desert hedgehog</th>\n",
       "      <td>0.550</td>\n",
       "      <td>2.40</td>\n",
       "    </tr>\n",
       "    <tr>\n",
       "      <th>Giant armadillo</th>\n",
       "      <td>60.000</td>\n",
       "      <td>81.00</td>\n",
       "    </tr>\n",
       "    <tr>\n",
       "      <th>Rock hyrax-b</th>\n",
       "      <td>3.600</td>\n",
       "      <td>21.00</td>\n",
       "    </tr>\n",
       "    <tr>\n",
       "      <th>Raccoon</th>\n",
       "      <td>4.288</td>\n",
       "      <td>39.20</td>\n",
       "    </tr>\n",
       "    <tr>\n",
       "      <th>Rat</th>\n",
       "      <td>0.280</td>\n",
       "      <td>1.90</td>\n",
       "    </tr>\n",
       "    <tr>\n",
       "      <th>E. American mole</th>\n",
       "      <td>0.075</td>\n",
       "      <td>1.20</td>\n",
       "    </tr>\n",
       "    <tr>\n",
       "      <th>Mole rat</th>\n",
       "      <td>0.122</td>\n",
       "      <td>3.00</td>\n",
       "    </tr>\n",
       "    <tr>\n",
       "      <th>Musk shrew</th>\n",
       "      <td>0.048</td>\n",
       "      <td>0.33</td>\n",
       "    </tr>\n",
       "    <tr>\n",
       "      <th>Pig</th>\n",
       "      <td>192.000</td>\n",
       "      <td>180.00</td>\n",
       "    </tr>\n",
       "    <tr>\n",
       "      <th>Echidna</th>\n",
       "      <td>3.000</td>\n",
       "      <td>25.00</td>\n",
       "    </tr>\n",
       "    <tr>\n",
       "      <th>Brazilian tapir</th>\n",
       "      <td>160.000</td>\n",
       "      <td>169.00</td>\n",
       "    </tr>\n",
       "    <tr>\n",
       "      <th>Tenrec</th>\n",
       "      <td>0.900</td>\n",
       "      <td>2.60</td>\n",
       "    </tr>\n",
       "    <tr>\n",
       "      <th>Phalanger</th>\n",
       "      <td>1.620</td>\n",
       "      <td>11.40</td>\n",
       "    </tr>\n",
       "    <tr>\n",
       "      <th>Tree shrew</th>\n",
       "      <td>0.104</td>\n",
       "      <td>2.50</td>\n",
       "    </tr>\n",
       "    <tr>\n",
       "      <th>Red fox</th>\n",
       "      <td>4.235</td>\n",
       "      <td>50.40</td>\n",
       "    </tr>\n",
       "  </tbody>\n",
       "</table>\n",
       "</div>"
      ],
      "text/plain": [
       "                               body    brain\n",
       "Arctic fox                    3.385    44.50\n",
       "Owl monkey                    0.480    15.50\n",
       "Mountain beaver               1.350     8.10\n",
       "Cow                         465.000   423.00\n",
       "Grey wolf                    36.330   119.50\n",
       "Goat                         27.660   115.00\n",
       "Roe deer                     14.830    98.20\n",
       "Guinea pig                    1.040     5.50\n",
       "Verbet                        4.190    58.00\n",
       "Chinchilla                    0.425     6.40\n",
       "Ground squirrel               0.101     4.00\n",
       "Arctic ground squirrel        0.920     5.70\n",
       "African giant pouched rat     1.000     6.60\n",
       "Lesser short-tailed shrew     0.005     0.14\n",
       "Star-nosed mole               0.060     1.00\n",
       "Nine-banded armadillo         3.500    10.80\n",
       "Tree hyrax                    2.000    12.30\n",
       "N.A. opossum                  1.700     6.30\n",
       "Asian elephant             2547.000  4603.00\n",
       "Big brown bat                 0.023     0.30\n",
       "Donkey                      187.100   419.00\n",
       "Horse                       521.000   655.00\n",
       "European hedgehog             0.785     3.50\n",
       "Patas monkey                 10.000   115.00\n",
       "Cat                           3.300    25.60\n",
       "Galago                        0.200     5.00\n",
       "Genet                         1.410    17.50\n",
       "Giraffe                     529.000   680.00\n",
       "Gorilla                     207.000   406.00\n",
       "Grey seal                    85.000   325.00\n",
       "Rock hyrax-a                  0.750    12.30\n",
       "Human                        62.000  1320.00\n",
       "African elephant           6654.000  5712.00\n",
       "Water opossum                 3.500     3.90\n",
       "Rhesus monkey                 6.800   179.00\n",
       "Kangaroo                     35.000    56.00\n",
       "Yellow-bellied marmot         4.050    17.00\n",
       "Golden hamster                0.120     1.00\n",
       "Mouse                         0.023     0.40\n",
       "Little brown bat              0.010     0.25\n",
       "Slow loris                    1.400    12.50\n",
       "Okapi                       250.000   490.00\n",
       "Rabbit                        2.500    12.10\n",
       "Sheep                        55.500   175.00\n",
       "Jaguar                      100.000   157.00\n",
       "Chimpanzee                   52.160   440.00\n",
       "Baboon                       10.550   179.50\n",
       "Desert hedgehog               0.550     2.40\n",
       "Giant armadillo              60.000    81.00\n",
       "Rock hyrax-b                  3.600    21.00\n",
       "Raccoon                       4.288    39.20\n",
       "Rat                           0.280     1.90\n",
       "E. American mole              0.075     1.20\n",
       "Mole rat                      0.122     3.00\n",
       "Musk shrew                    0.048     0.33\n",
       "Pig                         192.000   180.00\n",
       "Echidna                       3.000    25.00\n",
       "Brazilian tapir             160.000   169.00\n",
       "Tenrec                        0.900     2.60\n",
       "Phalanger                     1.620    11.40\n",
       "Tree shrew                    0.104     2.50\n",
       "Red fox                       4.235    50.40"
      ]
     },
     "execution_count": 4,
     "metadata": {},
     "output_type": "execute_result"
    }
   ],
   "source": [
    "from pydataset import data\n",
    "\n",
    "df = data('Mammals')\n"
   ]
  },
  {
   "cell_type": "code",
   "execution_count": null,
   "id": "ef8417cb",
   "metadata": {},
   "outputs": [],
   "source": [
    "data('Mammals', show_doc=True)"
   ]
  },
  {
   "cell_type": "code",
   "execution_count": null,
   "id": "f526f20c",
   "metadata": {},
   "outputs": [],
   "source": [
    "df.shape"
   ]
  },
  {
   "cell_type": "code",
   "execution_count": null,
   "id": "7ee3c42c",
   "metadata": {},
   "outputs": [],
   "source": [
    "df.dtypes"
   ]
  },
  {
   "cell_type": "code",
   "execution_count": null,
   "id": "a73d2aff",
   "metadata": {},
   "outputs": [],
   "source": [
    "df.info()"
   ]
  },
  {
   "cell_type": "code",
   "execution_count": null,
   "id": "bace3ab3",
   "metadata": {},
   "outputs": [],
   "source": [
    "df.describe()"
   ]
  },
  {
   "cell_type": "code",
   "execution_count": null,
   "id": "9b10359e",
   "metadata": {},
   "outputs": [],
   "source": [
    "(df.speed == df.speed.max()).head()"
   ]
  },
  {
   "cell_type": "code",
   "execution_count": null,
   "id": "26edcf7a",
   "metadata": {},
   "outputs": [],
   "source": [
    "df[df.speed == df.speed.max()]"
   ]
  },
  {
   "cell_type": "code",
   "execution_count": null,
   "id": "cf91ee4c",
   "metadata": {},
   "outputs": [],
   "source": [
    "df[df.speed == df.speed.max()].weight"
   ]
  },
  {
   "cell_type": "code",
   "execution_count": null,
   "id": "02862198",
   "metadata": {},
   "outputs": [],
   "source": [
    "df.head()"
   ]
  },
  {
   "cell_type": "code",
   "execution_count": null,
   "id": "2a37a905",
   "metadata": {},
   "outputs": [],
   "source": [
    "df.specials.sum()"
   ]
  },
  {
   "cell_type": "code",
   "execution_count": null,
   "id": "9110f9fe",
   "metadata": {},
   "outputs": [],
   "source": [
    "len(df)"
   ]
  },
  {
   "cell_type": "code",
   "execution_count": null,
   "id": "42211703",
   "metadata": {},
   "outputs": [],
   "source": [
    "df.specials.sum() /  len(df)"
   ]
  },
  {
   "cell_type": "code",
   "execution_count": null,
   "id": "53b35dc6",
   "metadata": {},
   "outputs": [],
   "source": [
    "df.specials.mean()"
   ]
  },
  {
   "cell_type": "code",
   "execution_count": null,
   "id": "bc147a07",
   "metadata": {},
   "outputs": [],
   "source": [
    "specials = df[df.specials]\n",
    "len(specials) / len(df)"
   ]
  },
  {
   "cell_type": "markdown",
   "id": "878cb917",
   "metadata": {},
   "source": [
    "How many animals are hoppers that are above the median speed? What percentage is this?"
   ]
  },
  {
   "cell_type": "code",
   "execution_count": null,
   "id": "7c80ce4a",
   "metadata": {},
   "outputs": [],
   "source": [
    "(df.hoppers == True) & (df.speed > df.speed.median())"
   ]
  },
  {
   "cell_type": "code",
   "execution_count": null,
   "id": "dd9499d8",
   "metadata": {},
   "outputs": [],
   "source": [
    "df.speed.median()"
   ]
  },
  {
   "cell_type": "code",
   "execution_count": null,
   "id": "335dd757",
   "metadata": {},
   "outputs": [],
   "source": [
    "fast_hoppers = df[(df.hoppers == True) & (df.speed > df.speed.median())]\n",
    "fast_hoppers"
   ]
  },
  {
   "cell_type": "code",
   "execution_count": null,
   "id": "2305c7d0",
   "metadata": {},
   "outputs": [],
   "source": [
    "len(fast_hoppers) / len(df)"
   ]
  },
  {
   "cell_type": "code",
   "execution_count": null,
   "id": "5993a36c",
   "metadata": {},
   "outputs": [],
   "source": [
    "df.size"
   ]
  },
  {
   "cell_type": "code",
   "execution_count": null,
   "id": "cd3e0fe2",
   "metadata": {},
   "outputs": [],
   "source": [
    "df.shape"
   ]
  },
  {
   "cell_type": "code",
   "execution_count": null,
   "id": "508ee008",
   "metadata": {},
   "outputs": [],
   "source": [
    "df.shape[0]"
   ]
  },
  {
   "cell_type": "code",
   "execution_count": null,
   "id": "31d5b3f0",
   "metadata": {},
   "outputs": [],
   "source": [
    "len(df)"
   ]
  },
  {
   "cell_type": "code",
   "execution_count": null,
   "id": "1a24cc11",
   "metadata": {},
   "outputs": [],
   "source": []
  },
  {
   "cell_type": "code",
   "execution_count": null,
   "id": "b602bab6",
   "metadata": {},
   "outputs": [],
   "source": []
  }
 ],
 "metadata": {
  "kernelspec": {
   "display_name": "Python 3 (ipykernel)",
   "language": "python",
   "name": "python3"
  },
  "language_info": {
   "codemirror_mode": {
    "name": "ipython",
    "version": 3
   },
   "file_extension": ".py",
   "mimetype": "text/x-python",
   "name": "python",
   "nbconvert_exporter": "python",
   "pygments_lexer": "ipython3",
   "version": "3.9.12"
  }
 },
 "nbformat": 4,
 "nbformat_minor": 5
}
