{
 "cells": [
  {
   "cell_type": "code",
   "execution_count": 1,
   "id": "260e8d25",
   "metadata": {},
   "outputs": [],
   "source": [
    "import matplotlib.pyplot as plt\n",
    "import numpy as np\n",
    "import math"
   ]
  },
  {
   "cell_type": "code",
   "execution_count": 31,
   "id": "d8c794a7",
   "metadata": {},
   "outputs": [
    {
     "name": "stderr",
     "output_type": "stream",
     "text": [
      "No artists with labels found to put in legend.  Note that artists whose label start with an underscore are ignored when legend() is called with no argument.\n"
     ]
    },
    {
     "data": {
      "text/plain": [
       "<matplotlib.legend.Legend at 0x7f903dcfbfd0>"
      ]
     },
     "execution_count": 31,
     "metadata": {},
     "output_type": "execute_result"
    },
    {
     "data": {
      "image/png": "[encoded data removed]",
      "text/plain": [
       "<Figure size 432x288 with 1 Axes>"
      ]
     },
     "metadata": {
      "needs_background": "light"
     },
     "output_type": "display_data"
    }
   ],
   "source": [
    "## 5\n",
    "\n",
    "# x axis = elements\n",
    "# y axis = operation\n",
    "# label or legend for curves\n",
    "# latex notation when possible\n",
    "\n",
    "x = range(1, 20)\n",
    "\n",
    "#y0 = [num * 0 + 1 for num in x]\n",
    "#y1 = np.log(x)\n",
    "#y2 = x\n",
    "#y3 = np.multiply(x, np.log(x))\n",
    "#y4 = [num ** 2 for num in x]\n",
    "#y5 = [2 ** num for num in x]\n",
    "y6 = [math.factorial(num) for num in x]\n",
    "#y7 = np.power(x, x)\n",
    "#y8 = \n",
    "\n",
    "plt.plot(x, y6)\n",
    "\n",
    "\n",
    "\n",
    "\n",
    "\n",
    "plt.xlim()\n",
    "plt.ylim()\n",
    "\n",
    "plt.legend(loc = 'upper right')"
   ]
  }
 ],
 "metadata": {
  "kernelspec": {
   "display_name": "Python 3 (ipykernel)",
   "language": "python",
   "name": "python3"
  },
  "language_info": {
   "codemirror_mode": {
    "name": "ipython",
    "version": 3
   },
   "file_extension": ".py",
   "mimetype": "text/x-python",
   "name": "python",
   "nbconvert_exporter": "python",
   "pygments_lexer": "ipython3",
   "version": "3.9.12"
  }
 },
 "nbformat": 4,
 "nbformat_minor": 5
}
