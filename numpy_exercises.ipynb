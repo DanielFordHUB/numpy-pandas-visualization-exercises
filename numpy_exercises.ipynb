{
 "cells": [
  {
   "cell_type": "code",
   "execution_count": 1,
   "id": "fc0bb646",
   "metadata": {},
   "outputs": [],
   "source": [
    "import numpy as np"
   ]
  },
  {
   "cell_type": "code",
   "execution_count": 2,
   "id": "7ca94fe8",
   "metadata": {},
   "outputs": [],
   "source": [
    "a = np.array([4, 10, 12, 23, -2, -1, 0, 0, 0, -6, 3, -7])"
   ]
  },
  {
   "cell_type": "code",
   "execution_count": 41,
   "id": "04406ff8",
   "metadata": {},
   "outputs": [
    {
     "data": {
      "text/plain": [
       "4"
      ]
     },
     "execution_count": 41,
     "metadata": {},
     "output_type": "execute_result"
    }
   ],
   "source": [
    "# 1. How many negative numbers are there?\n",
    "\n",
    "#output should == 4\n",
    "(a<0).sum()\n"
   ]
  },
  {
   "cell_type": "code",
   "execution_count": 42,
   "id": "4473d8e5",
   "metadata": {},
   "outputs": [
    {
     "data": {
      "text/plain": [
       "5"
      ]
     },
     "execution_count": 42,
     "metadata": {},
     "output_type": "execute_result"
    }
   ],
   "source": [
    "# 2. How many positive numbers are there?\n",
    "\n",
    "(a>0).sum()\n",
    "\n"
   ]
  },
  {
   "cell_type": "code",
   "execution_count": 74,
   "id": "7513f3ff",
   "metadata": {},
   "outputs": [
    {
     "ename": "AttributeError",
     "evalue": "'list' object has no attribute 'sum'",
     "output_type": "error",
     "traceback": [
      "\u001b[0;31m---------------------------------------------------------------------------\u001b[0m",
      "\u001b[0;31mAttributeError\u001b[0m                            Traceback (most recent call last)",
      "Input \u001b[0;32mIn [74]\u001b[0m, in \u001b[0;36m<cell line: 7>\u001b[0;34m()\u001b[0m\n\u001b[1;32m      5\u001b[0m pos_no_zero \u001b[38;5;241m=\u001b[39m pos[pos \u001b[38;5;241m!=\u001b[39m \u001b[38;5;241m0\u001b[39m]\n\u001b[1;32m      6\u001b[0m evens \u001b[38;5;241m=\u001b[39m [pos_no_zero \u001b[38;5;241m%\u001b[39m \u001b[38;5;241m2\u001b[39m]\n\u001b[0;32m----> 7\u001b[0m \u001b[43mevens\u001b[49m\u001b[38;5;241;43m.\u001b[39;49m\u001b[43msum\u001b[49m(\u001b[38;5;241m0\u001b[39m, \u001b[38;5;241m0\u001b[39m)\n",
      "\u001b[0;31mAttributeError\u001b[0m: 'list' object has no attribute 'sum'"
     ]
    }
   ],
   "source": [
    "#3 How many even positive numbers are there?\n",
    "#should be 3\n",
    "\n",
    "#pos = a[a>=0]\n",
    "#pos_no_zero = pos[pos != 0]\n",
    "#evens = [pos_no_zero % 2]\n",
    "sum_3 = a[(a+3) > 0]"
   ]
  },
  {
   "cell_type": "code",
   "execution_count": 78,
   "id": "ce652dd5",
   "metadata": {},
   "outputs": [
    {
     "ename": "NameError",
     "evalue": "name 'ssum_3' is not defined",
     "output_type": "error",
     "traceback": [
      "\u001b[0;31m---------------------------------------------------------------------------\u001b[0m",
      "\u001b[0;31mNameError\u001b[0m                                 Traceback (most recent call last)",
      "Input \u001b[0;32mIn [78]\u001b[0m, in \u001b[0;36m<cell line: 5>\u001b[0;34m()\u001b[0m\n\u001b[1;32m      1\u001b[0m \u001b[38;5;66;03m#4 If you were to add 3 to each data point, \u001b[39;00m\n\u001b[1;32m      2\u001b[0m \u001b[38;5;66;03m#how many positive numbers would there be\u001b[39;00m\n\u001b[1;32m      4\u001b[0m sum_3 \u001b[38;5;241m=\u001b[39m a[(a\u001b[38;5;241m+\u001b[39m\u001b[38;5;241m3\u001b[39m) \u001b[38;5;241m>\u001b[39m \u001b[38;5;241m0\u001b[39m]\n\u001b[0;32m----> 5\u001b[0m \u001b[43mssum_3\u001b[49m\n",
      "\u001b[0;31mNameError\u001b[0m: name 'ssum_3' is not defined"
     ]
    }
   ],
   "source": [
    "#4 If you were to add 3 to each data point, \n",
    "#how many positive numbers would there be\n",
    "\n",
    "sum_3 = a[(a+3) > 0]\n",
    "ssum_3"
   ]
  },
  {
   "cell_type": "code",
   "execution_count": 81,
   "id": "5b1751dd",
   "metadata": {},
   "outputs": [],
   "source": [
    "square_a = a ** 2"
   ]
  },
  {
   "cell_type": "code",
   "execution_count": 83,
   "id": "ba581ce4",
   "metadata": {},
   "outputs": [
    {
     "data": {
      "text/plain": [
       "0.0"
      ]
     },
     "execution_count": 83,
     "metadata": {},
     "output_type": "execute_result"
    }
   ],
   "source": [
    "centered_a = a - a.mean()\n",
    "centered_a.mean()"
   ]
  },
  {
   "cell_type": "code",
   "execution_count": null,
   "id": "0eb03ea6",
   "metadata": {},
   "outputs": [],
   "source": []
  }
 ],
 "metadata": {
  "kernelspec": {
   "display_name": "Python 3 (ipykernel)",
   "language": "python",
   "name": "python3"
  },
  "language_info": {
   "codemirror_mode": {
    "name": "ipython",
    "version": 3
   },
   "file_extension": ".py",
   "mimetype": "text/x-python",
   "name": "python",
   "nbconvert_exporter": "python",
   "pygments_lexer": "ipython3",
   "version": "3.9.12"
  }
 },
 "nbformat": 4,
 "nbformat_minor": 5
}
